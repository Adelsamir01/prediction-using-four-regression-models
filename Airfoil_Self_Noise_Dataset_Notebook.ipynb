{
  "nbformat": 4,
  "nbformat_minor": 0,
  "metadata": {
    "colab": {
      "name": " Airfoil_Self-Noise_Dataset_Notebook.ipynb",
      "provenance": []
    },
    "kernelspec": {
      "name": "python3",
      "display_name": "Python 3"
    },
    "language_info": {
      "name": "python"
    }
  },
  "cells": [
    {
      "cell_type": "code",
      "metadata": {
        "id": "a6nTg47Vi46c"
      },
      "source": [
        "import pandas as pd\n",
        "import numpy as np\n",
        "import sklearn.linear_model as skl_lm\n",
        "import matplotlib.pyplot as plt\n",
        "from sklearn.model_selection import cross_validate\n",
        "from sklearn.model_selection import KFold\n"
      ],
      "execution_count": 1,
      "outputs": []
    },
    {
      "cell_type": "markdown",
      "metadata": {
        "id": "5OcK4n6MP_dT"
      },
      "source": [
        "## Preparing Data For Training"
      ]
    },
    {
      "cell_type": "code",
      "metadata": {
        "colab": {
          "base_uri": "https://localhost:8080/",
          "height": 419
        },
        "id": "mnvv9qVqECVu",
        "outputId": "4aaa79ec-1d65-46bd-95ca-8b59821626d8"
      },
      "source": [
        "# import airfil_self_noise.csv\n",
        "df = pd.read_csv('/content/airfoil_self_noise.csv')\n",
        "df.head()\n",
        "df = df.sample(frac=1)\n",
        "df"
      ],
      "execution_count": 2,
      "outputs": [
        {
          "output_type": "execute_result",
          "data": {
            "text/html": [
              "<div>\n",
              "<style scoped>\n",
              "    .dataframe tbody tr th:only-of-type {\n",
              "        vertical-align: middle;\n",
              "    }\n",
              "\n",
              "    .dataframe tbody tr th {\n",
              "        vertical-align: top;\n",
              "    }\n",
              "\n",
              "    .dataframe thead th {\n",
              "        text-align: right;\n",
              "    }\n",
              "</style>\n",
              "<table border=\"1\" class=\"dataframe\">\n",
              "  <thead>\n",
              "    <tr style=\"text-align: right;\">\n",
              "      <th></th>\n",
              "      <th>Frequency</th>\n",
              "      <th>Angle of attack</th>\n",
              "      <th>Chord length</th>\n",
              "      <th>Free-stream velocity</th>\n",
              "      <th>Suction side displacement thickness</th>\n",
              "      <th>Scaled sound pressure level</th>\n",
              "    </tr>\n",
              "  </thead>\n",
              "  <tbody>\n",
              "    <tr>\n",
              "      <th>274</th>\n",
              "      <td>630</td>\n",
              "      <td>2.0</td>\n",
              "      <td>0.2286</td>\n",
              "      <td>39.6</td>\n",
              "      <td>0.003466</td>\n",
              "      <td>127.417</td>\n",
              "    </tr>\n",
              "    <tr>\n",
              "      <th>284</th>\n",
              "      <td>6300</td>\n",
              "      <td>2.0</td>\n",
              "      <td>0.2286</td>\n",
              "      <td>39.6</td>\n",
              "      <td>0.003466</td>\n",
              "      <td>116.417</td>\n",
              "    </tr>\n",
              "    <tr>\n",
              "      <th>414</th>\n",
              "      <td>1250</td>\n",
              "      <td>7.3</td>\n",
              "      <td>0.2286</td>\n",
              "      <td>55.5</td>\n",
              "      <td>0.011171</td>\n",
              "      <td>125.724</td>\n",
              "    </tr>\n",
              "    <tr>\n",
              "      <th>690</th>\n",
              "      <td>4000</td>\n",
              "      <td>9.9</td>\n",
              "      <td>0.1524</td>\n",
              "      <td>31.7</td>\n",
              "      <td>0.025278</td>\n",
              "      <td>111.459</td>\n",
              "    </tr>\n",
              "    <tr>\n",
              "      <th>95</th>\n",
              "      <td>10000</td>\n",
              "      <td>1.5</td>\n",
              "      <td>0.3048</td>\n",
              "      <td>39.6</td>\n",
              "      <td>0.003921</td>\n",
              "      <td>108.991</td>\n",
              "    </tr>\n",
              "    <tr>\n",
              "      <th>...</th>\n",
              "      <td>...</td>\n",
              "      <td>...</td>\n",
              "      <td>...</td>\n",
              "      <td>...</td>\n",
              "      <td>...</td>\n",
              "      <td>...</td>\n",
              "    </tr>\n",
              "    <tr>\n",
              "      <th>696</th>\n",
              "      <td>400</td>\n",
              "      <td>12.6</td>\n",
              "      <td>0.1524</td>\n",
              "      <td>71.3</td>\n",
              "      <td>0.048316</td>\n",
              "      <td>127.094</td>\n",
              "    </tr>\n",
              "    <tr>\n",
              "      <th>498</th>\n",
              "      <td>500</td>\n",
              "      <td>0.0</td>\n",
              "      <td>0.1524</td>\n",
              "      <td>31.7</td>\n",
              "      <td>0.002094</td>\n",
              "      <td>121.617</td>\n",
              "    </tr>\n",
              "    <tr>\n",
              "      <th>605</th>\n",
              "      <td>2500</td>\n",
              "      <td>7.2</td>\n",
              "      <td>0.1524</td>\n",
              "      <td>71.3</td>\n",
              "      <td>0.007520</td>\n",
              "      <td>124.353</td>\n",
              "    </tr>\n",
              "    <tr>\n",
              "      <th>1033</th>\n",
              "      <td>1000</td>\n",
              "      <td>4.8</td>\n",
              "      <td>0.0254</td>\n",
              "      <td>39.6</td>\n",
              "      <td>0.000907</td>\n",
              "      <td>122.956</td>\n",
              "    </tr>\n",
              "    <tr>\n",
              "      <th>1152</th>\n",
              "      <td>630</td>\n",
              "      <td>17.4</td>\n",
              "      <td>0.0254</td>\n",
              "      <td>71.3</td>\n",
              "      <td>0.016104</td>\n",
              "      <td>122.606</td>\n",
              "    </tr>\n",
              "  </tbody>\n",
              "</table>\n",
              "<p>1503 rows × 6 columns</p>\n",
              "</div>"
            ],
            "text/plain": [
              "      Frequency  ...  Scaled sound pressure level\n",
              "274         630  ...                      127.417\n",
              "284        6300  ...                      116.417\n",
              "414        1250  ...                      125.724\n",
              "690        4000  ...                      111.459\n",
              "95        10000  ...                      108.991\n",
              "...         ...  ...                          ...\n",
              "696         400  ...                      127.094\n",
              "498         500  ...                      121.617\n",
              "605        2500  ...                      124.353\n",
              "1033       1000  ...                      122.956\n",
              "1152        630  ...                      122.606\n",
              "\n",
              "[1503 rows x 6 columns]"
            ]
          },
          "metadata": {
            "tags": []
          },
          "execution_count": 2
        }
      ]
    },
    {
      "cell_type": "code",
      "metadata": {
        "id": "v1v5j1GPQTUf"
      },
      "source": [
        "X_train ,y_train= df.iloc[:,:-1],df.iloc[:,-1:]"
      ],
      "execution_count": 3,
      "outputs": []
    },
    {
      "cell_type": "markdown",
      "metadata": {
        "id": "EcFgepCDclWw"
      },
      "source": [
        "## Linear Regression Algorithm"
      ]
    },
    {
      "cell_type": "code",
      "metadata": {
        "id": "uTmDqf_pUdgm",
        "colab": {
          "base_uri": "https://localhost:8080/"
        },
        "outputId": "c9c8c4b5-ae90-4ebd-b3ea-69abe4a20e88"
      },
      "source": [
        "crossvalidation = KFold(n_splits=10, random_state=1, shuffle=False)\n",
        "\n",
        "lm = skl_lm.LinearRegression()\n",
        "model = lm.fit(X_train, y_train)\n",
        "scores = cross_validate(model, X_train, y_train, cv=crossvalidation,\n",
        " n_jobs=1)\n",
        "\n",
        "lr_time = scores['fit_time'].mean()\n",
        "print(lr_time)\n",
        "lr_score = scores['test_score'].mean()\n",
        "print(lr_score)"
      ],
      "execution_count": 4,
      "outputs": [
        {
          "output_type": "stream",
          "text": [
            "0.0030609607696533204\n",
            "0.5002492807920527\n"
          ],
          "name": "stdout"
        },
        {
          "output_type": "stream",
          "text": [
            "/usr/local/lib/python3.7/dist-packages/sklearn/model_selection/_split.py:296: FutureWarning: Setting a random_state has no effect since shuffle is False. This will raise an error in 0.24. You should leave random_state to its default (None), or set shuffle=True.\n",
            "  FutureWarning\n"
          ],
          "name": "stderr"
        }
      ]
    },
    {
      "cell_type": "markdown",
      "metadata": {
        "id": "SborHl3Gdn5O"
      },
      "source": [
        "## k-Nearest-Neighbors (k-NN) Algorithm"
      ]
    },
    {
      "cell_type": "code",
      "metadata": {
        "colab": {
          "base_uri": "https://localhost:8080/"
        },
        "id": "JPARGpyfdz5f",
        "outputId": "544c1ac9-8861-4b96-ffa5-1e7e37a8e43e"
      },
      "source": [
        "from sklearn.neighbors import KNeighborsClassifier\n",
        "# Create KNN classifier\n",
        "\n",
        "knn = KNeighborsClassifier(n_neighbors = 2)\n",
        "# Fit the classifier to the data\n",
        "\n",
        "from sklearn import preprocessing\n",
        "lab_enc = preprocessing.LabelEncoder()\n",
        "y_train_encoded = lab_enc.fit_transform(y_train)\n",
        "\n",
        "model = knn.fit(X_train,y_train_encoded)\n",
        "scores = cross_validate(model, X_train, y_train_encoded, cv=crossvalidation)\n",
        "\n",
        "kn_time = scores['fit_time'].mean()\n",
        "print(kn_time)\n",
        "kn_score = scores['test_score'].mean()\n",
        "print(kn_score)"
      ],
      "execution_count": 5,
      "outputs": [
        {
          "output_type": "stream",
          "text": [
            "0.002562260627746582\n",
            "0.0\n"
          ],
          "name": "stdout"
        },
        {
          "output_type": "stream",
          "text": [
            "/usr/local/lib/python3.7/dist-packages/sklearn/preprocessing/_label.py:251: DataConversionWarning: A column-vector y was passed when a 1d array was expected. Please change the shape of y to (n_samples, ), for example using ravel().\n",
            "  y = column_or_1d(y, warn=True)\n"
          ],
          "name": "stderr"
        }
      ]
    },
    {
      "cell_type": "markdown",
      "metadata": {
        "id": "jZsHp6ELdgdT"
      },
      "source": [
        "### K-NN Algorithm Tuning"
      ]
    },
    {
      "cell_type": "code",
      "metadata": {
        "colab": {
          "base_uri": "https://localhost:8080/"
        },
        "id": "T3MCddmhdmG3",
        "outputId": "d85455c5-28e6-446a-e242-768ba3438e8f"
      },
      "source": [
        "from sklearn.neighbors import KNeighborsClassifier\n",
        "\n",
        "\n",
        "knData = {}\n",
        "knTime = {}\n",
        "\n",
        "neighbours = [1, 2, 3, 4, 5]\n",
        "for n in neighbours:\n",
        "  knn = KNeighborsClassifier(n_neighbors = n)\n",
        "  # Fit the classifier to the data\n",
        "\n",
        "  from sklearn import preprocessing\n",
        "  lab_enc = preprocessing.LabelEncoder()\n",
        "  y_train_encoded = lab_enc.fit_transform(y_train)\n",
        "\n",
        "  model = knn.fit(X_train,y_train_encoded)\n",
        "  scores = cross_validate(model, X_train, y_train_encoded, cv=crossvalidation,\n",
        "  n_jobs=1)\n",
        "  knData[n] = scores['test_score'].mean()\n",
        "  knTime[n] = scores['fit_time'].mean()\n",
        "\n",
        "print(knData)\n",
        "print(knTime)\n"
      ],
      "execution_count": 6,
      "outputs": [
        {
          "output_type": "stream",
          "text": [
            "/usr/local/lib/python3.7/dist-packages/sklearn/preprocessing/_label.py:251: DataConversionWarning: A column-vector y was passed when a 1d array was expected. Please change the shape of y to (n_samples, ), for example using ravel().\n",
            "  y = column_or_1d(y, warn=True)\n",
            "/usr/local/lib/python3.7/dist-packages/sklearn/preprocessing/_label.py:251: DataConversionWarning: A column-vector y was passed when a 1d array was expected. Please change the shape of y to (n_samples, ), for example using ravel().\n",
            "  y = column_or_1d(y, warn=True)\n",
            "/usr/local/lib/python3.7/dist-packages/sklearn/preprocessing/_label.py:251: DataConversionWarning: A column-vector y was passed when a 1d array was expected. Please change the shape of y to (n_samples, ), for example using ravel().\n",
            "  y = column_or_1d(y, warn=True)\n",
            "/usr/local/lib/python3.7/dist-packages/sklearn/preprocessing/_label.py:251: DataConversionWarning: A column-vector y was passed when a 1d array was expected. Please change the shape of y to (n_samples, ), for example using ravel().\n",
            "  y = column_or_1d(y, warn=True)\n",
            "/usr/local/lib/python3.7/dist-packages/sklearn/preprocessing/_label.py:251: DataConversionWarning: A column-vector y was passed when a 1d array was expected. Please change the shape of y to (n_samples, ), for example using ravel().\n",
            "  y = column_or_1d(y, warn=True)\n"
          ],
          "name": "stderr"
        },
        {
          "output_type": "stream",
          "text": [
            "{1: 0.0, 2: 0.0, 3: 0.0, 4: 0.0, 5: 0.0}\n",
            "{1: 0.002946305274963379, 2: 0.002634477615356445, 3: 0.002588319778442383, 4: 0.0026830196380615234, 5: 0.0026801347732543944}\n"
          ],
          "name": "stdout"
        }
      ]
    },
    {
      "cell_type": "code",
      "metadata": {
        "colab": {
          "base_uri": "https://localhost:8080/",
          "height": 279
        },
        "id": "S0nJg85fgGqK",
        "outputId": "cbe41ee6-9a28-42aa-d6f8-641b5bf70ac9"
      },
      "source": [
        "plt.bar(range(len(knData)), list(knData.values()), align='center')\n",
        "plt.xticks(range(len(knData)), list(knData.keys()))\n",
        "plt.xlabel(\"# of Neighbours\")\n",
        "plt.ylabel(\"R2 Score\")\n",
        "plt.show()"
      ],
      "execution_count": 7,
      "outputs": [
        {
          "output_type": "display_data",
          "data": {
            "image/png": "[encoded data removed]",
            "text/plain": [
              "<Figure size 432x288 with 1 Axes>"
            ]
          },
          "metadata": {
            "tags": [],
            "needs_background": "light"
          }
        }
      ]
    },
    {
      "cell_type": "code",
      "metadata": {
        "colab": {
          "base_uri": "https://localhost:8080/",
          "height": 279
        },
        "id": "wyCfSO-7gazZ",
        "outputId": "3202e5dc-3c45-4de4-fd11-b426b17e3b9e"
      },
      "source": [
        "plt.bar(range(len(knTime)), list(knTime.values()), align='center')\n",
        "plt.xticks(range(len(knTime)), list(knTime.keys()))\n",
        "plt.xlabel(\"# of Neighbours\")\n",
        "plt.ylabel(\"Fit Time in Seconds\")\n",
        "plt.show()"
      ],
      "execution_count": 8,
      "outputs": [
        {
          "output_type": "display_data",
          "data": {
            "image/png": "[encoded data removed]",
            "text/plain": [
              "<Figure size 432x288 with 1 Axes>"
            ]
          },
          "metadata": {
            "tags": [],
            "needs_background": "light"
          }
        }
      ]
    },
    {
      "cell_type": "markdown",
      "metadata": {
        "id": "3w_GaAhDDod_"
      },
      "source": [
        "## Decision Trees Algorithm"
      ]
    },
    {
      "cell_type": "code",
      "metadata": {
        "colab": {
          "base_uri": "https://localhost:8080/"
        },
        "id": "nPymIVF8DqfW",
        "outputId": "81d71310-0820-48ea-9992-ae65b7d9f907"
      },
      "source": [
        "crossvalidation = KFold(n_splits=10, random_state=1, shuffle=False)\n",
        "\n",
        "from sklearn import tree, ensemble\n",
        "scores = cross_validate(tree.DecisionTreeRegressor(random_state= 42), X_train, y_train, cv=crossvalidation)\n",
        "\n",
        "dt_time = scores['fit_time'].mean()\n",
        "print(dt_time)\n",
        "dt_score = scores['test_score'].mean()\n",
        "print(dt_score)"
      ],
      "execution_count": 9,
      "outputs": [
        {
          "output_type": "stream",
          "text": [
            "0.006290316581726074\n",
            "0.8590372779935885\n"
          ],
          "name": "stdout"
        },
        {
          "output_type": "stream",
          "text": [
            "/usr/local/lib/python3.7/dist-packages/sklearn/model_selection/_split.py:296: FutureWarning: Setting a random_state has no effect since shuffle is False. This will raise an error in 0.24. You should leave random_state to its default (None), or set shuffle=True.\n",
            "  FutureWarning\n"
          ],
          "name": "stderr"
        }
      ]
    },
    {
      "cell_type": "markdown",
      "metadata": {
        "id": "ooBoMQqKsncI"
      },
      "source": [
        "### Decision Tree Regressor Tuning\n"
      ]
    },
    {
      "cell_type": "code",
      "metadata": {
        "colab": {
          "base_uri": "https://localhost:8080/"
        },
        "id": "LLG2YttKpTIY",
        "outputId": "ea184b12-3b89-46a0-e8a4-a8c58c331b3e"
      },
      "source": [
        "max_depth = [1,2,3,4,5,6,7,8,9,10]\n",
        "crossvalidation = KFold(n_splits=10, random_state=1, shuffle=False)\n",
        "dtData = {}\n",
        "dtTime = {}\n",
        "for val in max_depth:\n",
        "    scores = cross_validate(tree.DecisionTreeRegressor(max_depth= val, random_state= 42),  X_train, y_train, cv=crossvalidation)\n",
        "    dtData[val] = scores['test_score'].mean()\n",
        "    dtTime[val] = scores['fit_time'].mean()\n",
        "\n",
        "print(dtData)\n",
        "print(dtTime)"
      ],
      "execution_count": 10,
      "outputs": [
        {
          "output_type": "stream",
          "text": [
            "/usr/local/lib/python3.7/dist-packages/sklearn/model_selection/_split.py:296: FutureWarning: Setting a random_state has no effect since shuffle is False. This will raise an error in 0.24. You should leave random_state to its default (None), or set shuffle=True.\n",
            "  FutureWarning\n"
          ],
          "name": "stderr"
        },
        {
          "output_type": "stream",
          "text": [
            "{1: 0.13945454256642034, 2: 0.33839433401534513, 3: 0.4233960184539655, 4: 0.5182249274585005, 5: 0.6009271974262564, 6: 0.6897014019303394, 7: 0.7338640259727904, 8: 0.7721201121537961, 9: 0.798090133124642, 10: 0.8203279689851002}\n",
            "{1: 0.0035527229309082033, 2: 0.003662586212158203, 3: 0.0032879114151000977, 4: 0.0036466121673583984, 5: 0.0037429094314575194, 6: 0.004810142517089844, 7: 0.004538846015930176, 8: 0.004525303840637207, 9: 0.005013155937194824, 10: 0.005008769035339355}\n"
          ],
          "name": "stdout"
        }
      ]
    },
    {
      "cell_type": "code",
      "metadata": {
        "colab": {
          "base_uri": "https://localhost:8080/",
          "height": 279
        },
        "id": "c8BiDGB-cKGE",
        "outputId": "a7e118d7-9133-4962-bd7a-fff55a51f407"
      },
      "source": [
        "plt.bar(range(len(dtData)), list(dtData.values()), align='center')\n",
        "plt.xticks(range(len(dtData)), list(dtData.keys()))\n",
        "plt.xlabel(\"Max Depth\")\n",
        "plt.ylabel(\"R2 Score\")\n",
        "plt.show()"
      ],
      "execution_count": 11,
      "outputs": [
        {
          "output_type": "display_data",
          "data": {
            "image/png": "[encoded data removed]",
            "text/plain": [
              "<Figure size 432x288 with 1 Axes>"
            ]
          },
          "metadata": {
            "tags": [],
            "needs_background": "light"
          }
        }
      ]
    },
    {
      "cell_type": "code",
      "metadata": {
        "colab": {
          "base_uri": "https://localhost:8080/",
          "height": 279
        },
        "id": "SHATMOLbfxtT",
        "outputId": "66ffe556-997e-454a-f99c-93ac63369e5d"
      },
      "source": [
        "plt.bar(range(len(dtTime)), list(dtTime.values()), align='center')\n",
        "plt.xticks(range(len(dtTime)), list(dtTime.keys()))\n",
        "plt.xlabel(\"Max Depth\")\n",
        "plt.ylabel(\"Fit Time in Seconds\")\n",
        "plt.show()"
      ],
      "execution_count": 12,
      "outputs": [
        {
          "output_type": "display_data",
          "data": {
            "image/png": "[encoded data removed]",
            "text/plain": [
              "<Figure size 432x288 with 1 Axes>"
            ]
          },
          "metadata": {
            "tags": [],
            "needs_background": "light"
          }
        }
      ]
    },
    {
      "cell_type": "markdown",
      "metadata": {
        "id": "WU3Ny3v2Ooql"
      },
      "source": [
        "## Random Forest Algorithm"
      ]
    },
    {
      "cell_type": "code",
      "metadata": {
        "id": "aDpMZlzxOwog"
      },
      "source": [
        "# Feature Scaling\n",
        "from sklearn.preprocessing import StandardScaler\n",
        "\n",
        "sc = StandardScaler()\n",
        "X_train = sc.fit_transform(X_train)"
      ],
      "execution_count": 13,
      "outputs": []
    },
    {
      "cell_type": "code",
      "metadata": {
        "colab": {
          "base_uri": "https://localhost:8080/"
        },
        "id": "JWEjry_3jYUD",
        "outputId": "73bbec08-5dc5-45aa-852b-76c48e99a26d"
      },
      "source": [
        "from sklearn.ensemble import RandomForestRegressor\n",
        "\n",
        "regressor = RandomForestRegressor(n_estimators=10, random_state=0)\n",
        "model = regressor.fit(X_train, y_train.values.ravel())\n",
        "\n",
        "crossvalidation = KFold(n_splits=10, random_state=1, shuffle=False)\n",
        "scores = cross_validate(model, X_train, y_train.values.ravel(), cv=crossvalidation)\n",
        "\n",
        "rf_time = scores['fit_time'].mean()\n",
        "print(rf_time)\n",
        "rf_score = scores['test_score'].mean()\n",
        "print(rf_score)"
      ],
      "execution_count": 14,
      "outputs": [
        {
          "output_type": "stream",
          "text": [
            "/usr/local/lib/python3.7/dist-packages/sklearn/model_selection/_split.py:296: FutureWarning: Setting a random_state has no effect since shuffle is False. This will raise an error in 0.24. You should leave random_state to its default (None), or set shuffle=True.\n",
            "  FutureWarning\n"
          ],
          "name": "stderr"
        },
        {
          "output_type": "stream",
          "text": [
            "0.03890759944915771\n",
            "0.9245514716258121\n"
          ],
          "name": "stdout"
        }
      ]
    },
    {
      "cell_type": "markdown",
      "metadata": {
        "id": "IUuSjEJwtaBR"
      },
      "source": [
        "### Random Forest Regressor Tuning\n"
      ]
    },
    {
      "cell_type": "code",
      "metadata": {
        "colab": {
          "base_uri": "https://localhost:8080/"
        },
        "id": "-2Jy457ItdeI",
        "outputId": "4ca22619-27b2-47c4-8ea6-2740c0c9f272"
      },
      "source": [
        "estimators = [5, 10, 20, 50, 100, 200]\n",
        "rfData = {}\n",
        "rfTime = {}\n",
        "for count in estimators:\n",
        "    scores = cross_validate(ensemble.RandomForestRegressor(n_estimators= count, random_state= 42), X_train, y_train.values.ravel(), cv=crossvalidation)\n",
        "    print(f'For estimators: {count}')\n",
        "    print(scores['test_score'].mean())\n",
        "    rfData[count] = scores['test_score'].mean()\n",
        "    rfTime[count] = scores['fit_time'].mean()\n",
        "print(rfData)\n",
        "print(rfTime)"
      ],
      "execution_count": 15,
      "outputs": [
        {
          "output_type": "stream",
          "text": [
            "For estimators: 5\n",
            "0.9150522788915\n",
            "For estimators: 10\n",
            "0.9313382803998062\n",
            "For estimators: 20\n",
            "0.935610176598157\n",
            "For estimators: 50\n",
            "0.9390862403137124\n",
            "For estimators: 100\n",
            "0.939861627196479\n",
            "For estimators: 200\n",
            "0.9402293486566059\n",
            "{5: 0.9150522788915, 10: 0.9313382803998062, 20: 0.935610176598157, 50: 0.9390862403137124, 100: 0.939861627196479, 200: 0.9402293486566059}\n",
            "{5: 0.020241093635559083, 10: 0.04198620319366455, 20: 0.07828896045684815, 50: 0.1860196113586426, 100: 0.370458722114563, 200: 0.7343355417251587}\n"
          ],
          "name": "stdout"
        }
      ]
    },
    {
      "cell_type": "code",
      "metadata": {
        "colab": {
          "base_uri": "https://localhost:8080/",
          "height": 279
        },
        "id": "D-Bz9c1eiJwx",
        "outputId": "86c4a855-efb0-4c45-bc8f-fe54fd89e19d"
      },
      "source": [
        "plt.bar(range(len(rfData)), list(rfData.values()), align='center')\n",
        "plt.xticks(range(len(rfData)), list(rfData.keys()))\n",
        "plt.xlabel(\"# of Estimators\")\n",
        "plt.ylabel(\"R2 Score\")\n",
        "plt.show()"
      ],
      "execution_count": 16,
      "outputs": [
        {
          "output_type": "display_data",
          "data": {
            "image/png": "[encoded data removed]",
            "text/plain": [
              "<Figure size 432x288 with 1 Axes>"
            ]
          },
          "metadata": {
            "tags": [],
            "needs_background": "light"
          }
        }
      ]
    },
    {
      "cell_type": "code",
      "metadata": {
        "colab": {
          "base_uri": "https://localhost:8080/",
          "height": 279
        },
        "id": "vNUJsYQmiYoY",
        "outputId": "5af04240-71bb-41bd-cc7a-5302cd941b56"
      },
      "source": [
        "plt.bar(range(len(rfTime)), list(rfTime.values()), align='center')\n",
        "plt.xticks(range(len(rfTime)), list(rfTime.keys()))\n",
        "plt.xlabel(\"# of Estimators\")\n",
        "plt.ylabel(\"Fit Time in Seconds\")\n",
        "plt.show()"
      ],
      "execution_count": 17,
      "outputs": [
        {
          "output_type": "display_data",
          "data": {
            "image/png": "[encoded data removed]",
            "text/plain": [
              "<Figure size 432x288 with 1 Axes>"
            ]
          },
          "metadata": {
            "tags": [],
            "needs_background": "light"
          }
        }
      ]
    },
    {
      "cell_type": "code",
      "metadata": {
        "id": "UOAsZF3cmxhS"
      },
      "source": [
        "allScores = {\n",
        "  \"Linear\\nRegression\": lr_score,\n",
        "  \"K-NN\\nRegression\": kn_score,\n",
        "  \"Decision\\nTrees\": dt_score,\n",
        "  \"Random\\nForest\": rf_score\n",
        "}\n",
        "\n",
        "allTimes = {\n",
        "  \"Linear\\nRegression\": lr_time,\n",
        "  \"K-NN\\nRegression\": kn_time,\n",
        "  \"Decision\\nTrees\": dt_time,\n",
        "  \"Random\\nForest\": rf_time\n",
        "}"
      ],
      "execution_count": 18,
      "outputs": []
    },
    {
      "cell_type": "code",
      "metadata": {
        "colab": {
          "base_uri": "https://localhost:8080/",
          "height": 291
        },
        "id": "1_EkfRhnny7F",
        "outputId": "a60da4ca-d723-48e5-b974-dd8a411ff09b"
      },
      "source": [
        "plt.bar(range(len(allScores)), list(allScores.values()), align='center')\n",
        "plt.xticks(range(len(allScores)), list(allScores.keys()))\n",
        "plt.xlabel(\"Algorithms\")\n",
        "plt.ylabel(\"Mean R2\")\n",
        "plt.show()"
      ],
      "execution_count": 19,
      "outputs": [
        {
          "output_type": "display_data",
          "data": {
            "image/png": "[encoded data removed]",
            "text/plain": [
              "<Figure size 432x288 with 1 Axes>"
            ]
          },
          "metadata": {
            "tags": [],
            "needs_background": "light"
          }
        }
      ]
    },
    {
      "cell_type": "code",
      "metadata": {
        "colab": {
          "base_uri": "https://localhost:8080/",
          "height": 291
        },
        "id": "ul_OAKLhpPOj",
        "outputId": "4df2e3d3-a8a0-40e4-8e9a-b754ddc0ae5b"
      },
      "source": [
        "plt.bar(range(len(allTimes)), list(allTimes.values()), align='center')\n",
        "plt.xticks(range(len(allTimes)), list(allTimes.keys()))\n",
        "plt.xlabel(\"Algorithms\")\n",
        "plt.ylabel(\"Mean Fit Time in Seconds\")\n",
        "plt.show()"
      ],
      "execution_count": 20,
      "outputs": [
        {
          "output_type": "display_data",
          "data": {
            "image/png": "[encoded data removed]",
            "text/plain": [
              "<Figure size 432x288 with 1 Axes>"
            ]
          },
          "metadata": {
            "tags": [],
            "needs_background": "light"
          }
        }
      ]
    },
    {
      "cell_type": "code",
      "metadata": {
        "id": "sWUFwnt6o54z"
      },
      "source": [
        ""
      ],
      "execution_count": 20,
      "outputs": []
    }
  ]
}